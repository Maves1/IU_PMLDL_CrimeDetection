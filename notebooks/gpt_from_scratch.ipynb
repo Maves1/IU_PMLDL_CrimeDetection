{
  "cells": [
    {
      "cell_type": "markdown",
      "metadata": {},
      "source": [
        "## Colab Google Drive Mount"
      ]
    },
    {
      "cell_type": "code",
      "execution_count": 1,
      "metadata": {
        "colab": {
          "base_uri": "https://localhost:8080/"
        },
        "id": "sa5JfUkOh3M1",
        "outputId": "384773d8-d0a4-4a8b-afd2-f9cd68f72fb2"
      },
      "outputs": [
        {
          "name": "stdout",
          "output_type": "stream",
          "text": [
            "Mounted at /content/drive\n"
          ]
        }
      ],
      "source": [
        "from google.colab import drive\n",
        "drive.mount('/content/drive')"
      ]
    },
    {
      "cell_type": "markdown",
      "metadata": {},
      "source": [
        "## Pip installs"
      ]
    },
    {
      "cell_type": "code",
      "execution_count": null,
      "metadata": {
        "colab": {
          "base_uri": "https://localhost:8080/"
        },
        "id": "R8zkd1knF38f",
        "outputId": "18690760-feb4-4466-b26d-39ae7bf9a6e1"
      },
      "outputs": [],
      "source": [
        "!pip install torch tiktoken numpy pandas"
      ]
    },
    {
      "cell_type": "markdown",
      "metadata": {},
      "source": [
        "## Model from scratch"
      ]
    },
    {
      "cell_type": "code",
      "execution_count": 3,
      "metadata": {
        "id": "FazteF-ADdxa"
      },
      "outputs": [],
      "source": [
        "import torch\n",
        "import torch.nn as nn\n",
        "import math\n",
        "\n",
        "from torch.nn import functional as F\n",
        "from torch.utils.data import Dataset\n",
        "from torch.utils.data.dataloader import DataLoader\n",
        "\n",
        "device = torch.device(\"cuda\" if torch.cuda.is_available() else \"cpu\")\n",
        "# device = torch.device(\"mps\")\n",
        "\n",
        "# A helper config class that contains model parameters\n",
        "class Config:\n",
        "    embed_dropout = 0.1\n",
        "    ff_dropout = 0.1\n",
        "    attn_dropout = 0.1\n",
        "\n",
        "    num_embed = 768\n",
        "    num_heads = 12\n",
        "    num_blocks = 12\n",
        "\n",
        "    batch_size = 32\n",
        "\n",
        "    def __init__(self, vocab_size, max_seq_len) -> None:\n",
        "        self.vocab_size = vocab_size\n",
        "        self.max_seq_len = max_seq_len"
      ]
    },
    {
      "cell_type": "code",
      "execution_count": 4,
      "metadata": {
        "id": "lWKYeUnfDEBV"
      },
      "outputs": [],
      "source": [
        "class SelfAttention(nn.Module):\n",
        "\n",
        "    def __init__(self, config: Config):\n",
        "        super().__init__()\n",
        "\n",
        "        if config.num_embed % config.num_heads != 0:\n",
        "            raise ValueError(\"num_embed % num_heads != 0\")\n",
        "\n",
        "        self.num_embed = config.num_embed\n",
        "        self.num_heads = config.num_heads\n",
        "\n",
        "        self.c_attn = nn.Linear(config.num_embed, 3 * config.num_embed)  # key, query, value\n",
        "        self.c_proj = nn.Linear(config.num_embed, config.num_embed)\n",
        "\n",
        "        # regularization\n",
        "        self.attn_dropout = nn.Dropout(config.attn_dropout)\n",
        "        self.resid_dropout = nn.Dropout(config.ff_dropout)\n",
        "\n",
        "        # Mask that makes sure that attention only affects left tokens (previous, not future ones)\n",
        "        self.register_buffer(\"bias\", torch.tril(torch.ones(config.max_seq_len, config.max_seq_len))\n",
        "                                     .view(1, 1, config.max_seq_len, config.max_seq_len))\n",
        "\n",
        "    def forward(self, x):\n",
        "        B, T, C = x.size()  # batch size, seq len, num_embed\n",
        "\n",
        "        # query, key, value for every head in batch\n",
        "        query, key, value = self.c_attn(x).split(self.num_embed, dim=2)\n",
        "\n",
        "        key = key.view(B, T, self.num_heads, C // self.num_heads).transpose(1, 2)\n",
        "        query = query.view(B, T, self.num_heads, C // self.num_heads).transpose(1, 2)\n",
        "        value = value.view(B, T, self.num_heads, C // self.num_heads).transpose(1, 2)\n",
        "\n",
        "        # Causal self attention\n",
        "        atn = (query @ key.transpose(-2, -1)) * (1.0 / math.sqrt(key.size(-1)))\n",
        "        atn = atn.masked_fill(self.bias[:, :, :T, :T] == 0, float('-inf'))\n",
        "        atn = F.softmax(atn, dim=-1)\n",
        "        atn = self.attn_dropout(atn)\n",
        "\n",
        "        y = atn @ value\n",
        "        y = y.transpose(1, 2).contiguous().view(B, T, C)\n",
        "        y = self.resid_dropout(self.c_proj(y))\n",
        "\n",
        "        return y\n",
        "\n",
        "class Block(nn.Module):\n",
        "    def __init__(self, config: Config):\n",
        "        super().__init__()\n",
        "\n",
        "        self.ln_1 = nn.LayerNorm(config.num_embed)\n",
        "\n",
        "        self.attention = SelfAttention(config)\n",
        "\n",
        "        self.ln_2 = nn.LayerNorm(config.num_embed)\n",
        "\n",
        "        self.mlp = nn.ModuleDict(dict(\n",
        "            c_fc    = nn.Linear(config.num_embed, 4 * config.num_embed),\n",
        "            c_proj  = nn.Linear(4 * config.num_embed, config.num_embed),\n",
        "            act     = nn.GELU(),\n",
        "            dropout = nn.Dropout(config.ff_dropout),\n",
        "        ))\n",
        "\n",
        "        m = self.mlp\n",
        "        self.mlpf = lambda x: m.dropout(m.c_proj(m.act(m.c_fc(x))))\n",
        "\n",
        "    def forward(self, x):\n",
        "        x = x + self.attention(self.ln_1(x))\n",
        "        x = x + self.mlpf(self.ln_2(x))\n",
        "\n",
        "        return x\n",
        "\n",
        "class GPT(nn.Module):\n",
        "    def __init__(self, config: Config) -> None:\n",
        "        super().__init__()\n",
        "\n",
        "        self.max_seq_len = config.max_seq_len\n",
        "        self.transformer = nn.ModuleDict(dict(\n",
        "            wte = nn.Embedding(config.vocab_size, config.num_embed),\n",
        "            wpe = nn.Embedding(config.max_seq_len, config.num_embed),\n",
        "            dropout = nn.Dropout(config.embed_dropout),\n",
        "            h = nn.ModuleList([Block(config) for _ in range(config.num_blocks)]),\n",
        "            ln_f = nn.LayerNorm(config.num_embed)\n",
        "        ))\n",
        "\n",
        "        self.head = nn.Linear(config.num_embed, config.vocab_size)\n",
        "\n",
        "    def forward(self, x, targets=None):\n",
        "        # x.shape = (Batches, Seq length)\n",
        "\n",
        "        seq_len = x.size(1)\n",
        "\n",
        "        if seq_len > self.max_seq_len:\n",
        "            raise ValueError(\"Sequence length is > max allowed length\")\n",
        "\n",
        "        token_emb = self.transformer.wte(x)  # Batch size, seq length, num_embed\n",
        "\n",
        "        positions = torch.arange(0, seq_len,\n",
        "                               dtype=torch.long,\n",
        "                               device=device).unsqueeze(0)  # (1, max_seq_len)\n",
        "\n",
        "        pos_emb = self.transformer.wpe(positions)  # 1, max_seq_len, num_embed\n",
        "\n",
        "        x = self.transformer.dropout(token_emb + pos_emb)\n",
        "\n",
        "        for block in self.transformer.h:\n",
        "            x = block(x)\n",
        "\n",
        "        x = self.transformer.ln_f(x)\n",
        "\n",
        "        logits = self.head(x)\n",
        "        # print(f\"logits.shape: {logits.shape}\")\n",
        "        # print(f\"targets.shape: {targets.shape}\")\n",
        "\n",
        "        loss = None\n",
        "        if targets is not None:\n",
        "            B, T, C = logits.shape\n",
        "            logits = logits.view(B * T, C)\n",
        "            targets = targets.view(B * T)\n",
        "\n",
        "            loss = F.cross_entropy(logits, targets)\n",
        "            # print(f\"LOGITS: {logits}\\nTargets: {targets}\")\n",
        "\n",
        "        return logits, loss\n",
        "\n",
        "    def generate(self, xs, max_new_tokens, temperature=1.0, do_sample=False, top_k=None):\n",
        "\n",
        "        for _ in range(max_new_tokens):\n",
        "            if xs.size(1) > self.max_seq_len:\n",
        "                x = xs[:, -self.max_seq_len:]\n",
        "            else:\n",
        "                x = xs\n",
        "\n",
        "            logits, _ = self(x)\n",
        "\n",
        "            # Taking last logits\n",
        "            logits = logits[:, -1, :] / temperature  # Also scaling by temperature\n",
        "\n",
        "            if top_k is not None:\n",
        "                v, _ = torch.topk(logits, top_k)\n",
        "                logits[logits < v[:, [-1]]] = -float('Inf')\n",
        "\n",
        "            probs = F.softmax(logits, dim=-1)\n",
        "\n",
        "            # We can either sample from distribution or choose using top_k\n",
        "            if do_sample:\n",
        "                x_next = torch.multinomial(probs, num_samples=1)\n",
        "            else:\n",
        "                _, x_next = torch.topk(probs, k=1, dim=-1)\n",
        "\n",
        "            xs = torch.cat((xs, x_next), dim=1)  # Adding a chosen token to the sequence\n",
        "        return xs"
      ]
    },
    {
      "cell_type": "code",
      "execution_count": 5,
      "metadata": {
        "colab": {
          "base_uri": "https://localhost:8080/"
        },
        "id": "WqqxhwFhWtFY",
        "outputId": "d8480067-a88b-4cc2-f5fc-72041b4f9b63"
      },
      "outputs": [
        {
          "name": "stdout",
          "output_type": "stream",
          "text": [
            "[15496, 11, 340, 338, 502, 0]\n"
          ]
        }
      ],
      "source": [
        "# Tokenizer\n",
        "\n",
        "import tiktoken\n",
        "\n",
        "enc = tiktoken.get_encoding(\"gpt2\")"
      ]
    },
    {
      "cell_type": "code",
      "execution_count": 6,
      "metadata": {
        "colab": {
          "base_uri": "https://localhost:8080/"
        },
        "id": "nKfDSSaQqtZu",
        "outputId": "f770d8bd-e9bc-4ecc-eac8-b90e626e3b85"
      },
      "outputs": [
        {
          "data": {
            "text/plain": [
              "50256"
            ]
          },
          "execution_count": 6,
          "metadata": {},
          "output_type": "execute_result"
        }
      ],
      "source": [
        "enc.eot_token"
      ]
    },
    {
      "cell_type": "code",
      "execution_count": 7,
      "metadata": {
        "colab": {
          "base_uri": "https://localhost:8080/"
        },
        "id": "TdgJhxSDDEBW",
        "outputId": "781b0265-ca6a-4450-bec5-66a6d5bd4f8d"
      },
      "outputs": [
        {
          "name": "stdout",
          "output_type": "stream",
          "text": [
            "vocab size: 50257\n"
          ]
        }
      ],
      "source": [
        "vocab_size = enc.n_vocab\n",
        "\n",
        "print(f\"vocab size: {vocab_size}\")"
      ]
    },
    {
      "cell_type": "markdown",
      "metadata": {
        "id": "-7EYWjdUf-Js"
      },
      "source": [
        "We will be processing several batches in parallel to accelerate training process"
      ]
    },
    {
      "cell_type": "code",
      "execution_count": 8,
      "metadata": {
        "id": "oR7ZM007DEBY"
      },
      "outputs": [],
      "source": [
        "max_seq_len = 50\n",
        "\n",
        "config = Config(vocab_size, max_seq_len)"
      ]
    },
    {
      "cell_type": "markdown",
      "metadata": {
        "id": "-eF7FzerDEBY"
      },
      "source": [
        "We can see that the model gives us random output. Let's train it!"
      ]
    },
    {
      "cell_type": "code",
      "execution_count": 9,
      "metadata": {
        "id": "sUwHH1qqYW2E"
      },
      "outputs": [],
      "source": [
        "import pandas as pd\n",
        "import random\n",
        "\n",
        "def pad_sequence(encoded_sequence, max_seq_len):\n",
        "    seq_len = len(encoded_sequence)\n",
        "\n",
        "    for i in range(max_seq_len - seq_len):\n",
        "        encoded_sequence.append(enc.eot_token)\n",
        "\n",
        "def strip_sequence(encoded_sequence, max_seq_len):\n",
        "    if len(encoded_sequence) > max_seq_len:\n",
        "        return encoded_sequence[:max_seq_len]\n",
        "    return encoded_sequence\n",
        "\n",
        "def preprocess_entry(tokenizer, max_seq_len, entry):\n",
        "    encoded = tokenizer.encode(entry[1][0])\n",
        "    if len(encoded) > max_seq_len:\n",
        "        encoded = strip_sequence(encoded, max_seq_len)\n",
        "    encoded.append(tokenizer.eot_token)\n",
        "    return encoded\n",
        "\n",
        "class JokeDataset(Dataset):\n",
        "    def __init__(self, file, tokenizer, max_seq_len):\n",
        "\n",
        "        df = pd.read_csv(file, index_col=0)\n",
        "\n",
        "        self.jokes = []\n",
        "        for row in df.iterrows():\n",
        "            encoded = preprocess_entry(tokenizer, max_seq_len, row)\n",
        "            self.jokes.extend(encoded)\n",
        "\n",
        "    def __len__(self):\n",
        "        return len(self.jokes)\n",
        "\n",
        "    def __getitem__(self, idx):\n",
        "        if len(self.jokes) - idx < max_seq_len + 1:\n",
        "            idx = len(self.jokes) - max_seq_len - 1\n",
        "\n",
        "        encoded_sample = self.jokes[idx:idx + max_seq_len + 1]\n",
        "\n",
        "        x = encoded_sample[:max_seq_len]\n",
        "        y = encoded_sample[1:]\n",
        "\n",
        "        return torch.tensor(x), torch.tensor(y)"
      ]
    },
    {
      "cell_type": "code",
      "execution_count": 10,
      "metadata": {
        "id": "-N0F4ibiYW2E"
      },
      "outputs": [],
      "source": [
        "shortjokes_path = \"/content/drive/MyDrive/IU/Semester_7/PMLDL_JokeGPT/shortjokes.csv\"\n",
        "\n",
        "train_dataset = JokeDataset(shortjokes_path, enc, config.max_seq_len)"
      ]
    },
    {
      "cell_type": "code",
      "execution_count": 12,
      "metadata": {
        "colab": {
          "base_uri": "https://localhost:8080/"
        },
        "id": "6J28FtlvoLbE",
        "outputId": "d8a50938-52d5-4302-efb0-6306cf3282cc"
      },
      "outputs": [
        {
          "data": {
            "text/plain": [
              "<torch.autograd.anomaly_mode.set_detect_anomaly at 0x7b4bb5d2d210>"
            ]
          },
          "execution_count": 12,
          "metadata": {},
          "output_type": "execute_result"
        }
      ],
      "source": [
        "torch.autograd.set_detect_anomaly(False)"
      ]
    },
    {
      "cell_type": "code",
      "execution_count": 13,
      "metadata": {
        "id": "dN3rDtrvipkq"
      },
      "outputs": [],
      "source": [
        "model = GPT(config).to(device)\n",
        "optimizer = torch.optim.AdamW(model.parameters(), lr=1e-4)\n",
        "\n",
        "model_path = \"/content/drive/MyDrive/IU/Semester_7/PMLDL_JokeGPT/GPTFromScratch\""
      ]
    },
    {
      "cell_type": "code",
      "execution_count": 14,
      "metadata": {
        "colab": {
          "base_uri": "https://localhost:8080/",
          "height": 1000
        },
        "id": "-4oXAc9mDEBa",
        "outputId": "51f2229a-330c-4557-add8-916865b892eb"
      },
      "outputs": [
        {
          "name": "stderr",
          "output_type": "stream",
          "text": [
            "\r  0%|          | 0/20 [00:00<?, ?it/s]"
          ]
        },
        {
          "name": "stdout",
          "output_type": "stream",
          "text": [
            "epoch: 0; iter_num: 0; loss: 10.999482154846191\n",
            "epoch: 0; iter_num: 0; loss: 6.497827529907227\n",
            "epoch: 0; iter_num: 0; loss: 6.315689563751221\n",
            "epoch: 0; iter_num: 0; loss: 6.0192952156066895\n",
            "epoch: 0; iter_num: 0; loss: 5.842006206512451\n"
          ]
        },
        {
          "name": "stderr",
          "output_type": "stream",
          "text": [
            "\r  5%|▌         | 1/20 [03:46<1:11:36, 226.14s/it]"
          ]
        },
        {
          "name": "stdout",
          "output_type": "stream",
          "text": [
            "epoch: 1; iter_num: 0; loss: 5.657104969024658\n",
            "epoch: 1; iter_num: 0; loss: 5.780244827270508\n",
            "epoch: 1; iter_num: 0; loss: 5.328470230102539\n",
            "epoch: 1; iter_num: 0; loss: 5.435688018798828\n",
            "epoch: 1; iter_num: 0; loss: 5.135679244995117\n"
          ]
        },
        {
          "name": "stderr",
          "output_type": "stream",
          "text": [
            "\r 10%|█         | 2/20 [07:35<1:08:19, 227.76s/it]"
          ]
        },
        {
          "name": "stdout",
          "output_type": "stream",
          "text": [
            "epoch: 2; iter_num: 0; loss: 5.374339580535889\n",
            "epoch: 2; iter_num: 0; loss: 5.371807098388672\n",
            "epoch: 2; iter_num: 0; loss: 5.3074564933776855\n",
            "epoch: 2; iter_num: 0; loss: 5.178530693054199\n",
            "epoch: 2; iter_num: 0; loss: 5.16877555847168\n"
          ]
        },
        {
          "name": "stderr",
          "output_type": "stream",
          "text": [
            "\r 15%|█▌        | 3/20 [11:23<1:04:39, 228.23s/it]"
          ]
        },
        {
          "name": "stdout",
          "output_type": "stream",
          "text": [
            "epoch: 3; iter_num: 0; loss: 5.198282241821289\n",
            "epoch: 3; iter_num: 0; loss: 5.117187976837158\n",
            "epoch: 3; iter_num: 0; loss: 4.981469631195068\n",
            "epoch: 3; iter_num: 0; loss: 5.031808376312256\n",
            "epoch: 3; iter_num: 0; loss: 5.095453262329102\n"
          ]
        },
        {
          "name": "stderr",
          "output_type": "stream",
          "text": [
            "\r 20%|██        | 4/20 [15:12<1:00:56, 228.52s/it]"
          ]
        },
        {
          "name": "stdout",
          "output_type": "stream",
          "text": [
            "epoch: 4; iter_num: 0; loss: 4.7794718742370605\n",
            "epoch: 4; iter_num: 0; loss: 4.827373504638672\n",
            "epoch: 4; iter_num: 0; loss: 4.866889953613281\n",
            "epoch: 4; iter_num: 0; loss: 5.021045207977295\n",
            "epoch: 4; iter_num: 0; loss: 4.967208385467529\n"
          ]
        },
        {
          "name": "stderr",
          "output_type": "stream",
          "text": [
            "\r 25%|██▌       | 5/20 [19:02<57:12, 228.81s/it]  "
          ]
        },
        {
          "name": "stdout",
          "output_type": "stream",
          "text": [
            "epoch: 5; iter_num: 0; loss: 4.7825446128845215\n",
            "epoch: 5; iter_num: 0; loss: 4.808016777038574\n",
            "epoch: 5; iter_num: 0; loss: 5.010392189025879\n",
            "epoch: 5; iter_num: 0; loss: 4.70461368560791\n",
            "epoch: 5; iter_num: 0; loss: 4.85282564163208\n"
          ]
        },
        {
          "name": "stderr",
          "output_type": "stream",
          "text": [
            "\r 30%|███       | 6/20 [22:51<53:23, 228.85s/it]"
          ]
        },
        {
          "name": "stdout",
          "output_type": "stream",
          "text": [
            "epoch: 6; iter_num: 0; loss: 4.7631635665893555\n",
            "epoch: 6; iter_num: 0; loss: 4.641072750091553\n",
            "epoch: 6; iter_num: 0; loss: 4.606839656829834\n",
            "epoch: 6; iter_num: 0; loss: 5.0915703773498535\n",
            "epoch: 6; iter_num: 0; loss: 4.644153594970703\n"
          ]
        },
        {
          "name": "stderr",
          "output_type": "stream",
          "text": [
            "\r 35%|███▌      | 7/20 [26:40<49:35, 228.91s/it]"
          ]
        },
        {
          "name": "stdout",
          "output_type": "stream",
          "text": [
            "epoch: 7; iter_num: 0; loss: 4.5101118087768555\n",
            "epoch: 7; iter_num: 0; loss: 4.751358509063721\n",
            "epoch: 7; iter_num: 0; loss: 4.4253249168396\n",
            "epoch: 7; iter_num: 0; loss: 4.272685527801514\n",
            "epoch: 7; iter_num: 0; loss: 4.57515811920166\n"
          ]
        },
        {
          "name": "stderr",
          "output_type": "stream",
          "text": [
            "\r 40%|████      | 8/20 [30:29<45:48, 229.01s/it]"
          ]
        },
        {
          "name": "stdout",
          "output_type": "stream",
          "text": [
            "epoch: 8; iter_num: 0; loss: 4.540579795837402\n",
            "epoch: 8; iter_num: 0; loss: 4.551905632019043\n",
            "epoch: 8; iter_num: 0; loss: 4.697862148284912\n",
            "epoch: 8; iter_num: 0; loss: 4.65164852142334\n",
            "epoch: 8; iter_num: 0; loss: 4.396605014801025\n"
          ]
        },
        {
          "name": "stderr",
          "output_type": "stream",
          "text": [
            "\r 45%|████▌     | 9/20 [34:18<42:01, 229.20s/it]"
          ]
        },
        {
          "name": "stdout",
          "output_type": "stream",
          "text": [
            "epoch: 9; iter_num: 0; loss: 4.293979167938232\n",
            "epoch: 9; iter_num: 0; loss: 4.370739459991455\n",
            "epoch: 9; iter_num: 0; loss: 4.266968250274658\n",
            "epoch: 9; iter_num: 0; loss: 4.426673412322998\n",
            "epoch: 9; iter_num: 0; loss: 4.400434494018555\n",
            "epoch: 10; iter_num: 0; loss: 4.306269645690918\n",
            "epoch: 10; iter_num: 0; loss: 4.482110977172852\n",
            "epoch: 10; iter_num: 0; loss: 4.427398681640625\n",
            "epoch: 10; iter_num: 0; loss: 4.638190746307373\n",
            "epoch: 10; iter_num: 0; loss: 4.197810173034668\n"
          ]
        },
        {
          "name": "stderr",
          "output_type": "stream",
          "text": [
            "\r 55%|█████▌    | 11/20 [41:57<34:23, 229.29s/it]"
          ]
        },
        {
          "name": "stdout",
          "output_type": "stream",
          "text": [
            "epoch: 11; iter_num: 0; loss: 4.405765056610107\n",
            "epoch: 11; iter_num: 0; loss: 4.524531364440918\n",
            "epoch: 11; iter_num: 0; loss: 4.343035697937012\n",
            "epoch: 11; iter_num: 0; loss: 4.208868026733398\n",
            "epoch: 11; iter_num: 0; loss: 4.303743839263916\n"
          ]
        },
        {
          "name": "stderr",
          "output_type": "stream",
          "text": [
            "\r 60%|██████    | 12/20 [45:47<30:34, 229.35s/it]"
          ]
        },
        {
          "name": "stdout",
          "output_type": "stream",
          "text": [
            "epoch: 12; iter_num: 0; loss: 4.277750015258789\n",
            "epoch: 12; iter_num: 0; loss: 4.4647722244262695\n",
            "epoch: 12; iter_num: 0; loss: 4.552567005157471\n",
            "epoch: 12; iter_num: 0; loss: 4.191070079803467\n",
            "epoch: 12; iter_num: 0; loss: 4.311422348022461\n"
          ]
        },
        {
          "name": "stderr",
          "output_type": "stream",
          "text": [
            "\r 65%|██████▌   | 13/20 [49:36<26:45, 229.33s/it]"
          ]
        },
        {
          "name": "stdout",
          "output_type": "stream",
          "text": [
            "epoch: 13; iter_num: 0; loss: 4.329257011413574\n",
            "epoch: 13; iter_num: 0; loss: 4.400514125823975\n",
            "epoch: 13; iter_num: 0; loss: 4.291391849517822\n",
            "epoch: 13; iter_num: 0; loss: 4.423242092132568\n",
            "epoch: 13; iter_num: 0; loss: 4.3037238121032715\n"
          ]
        },
        {
          "name": "stderr",
          "output_type": "stream",
          "text": [
            "\r 70%|███████   | 14/20 [53:25<22:56, 229.41s/it]"
          ]
        },
        {
          "name": "stdout",
          "output_type": "stream",
          "text": [
            "epoch: 14; iter_num: 0; loss: 3.8789706230163574\n",
            "epoch: 14; iter_num: 0; loss: 4.132814884185791\n",
            "epoch: 14; iter_num: 0; loss: 4.229280948638916\n",
            "epoch: 14; iter_num: 0; loss: 4.331777572631836\n",
            "epoch: 14; iter_num: 0; loss: 4.134678363800049\n"
          ]
        },
        {
          "name": "stderr",
          "output_type": "stream",
          "text": [
            "\r 75%|███████▌  | 15/20 [57:17<19:10, 230.04s/it]"
          ]
        },
        {
          "name": "stdout",
          "output_type": "stream",
          "text": [
            "epoch: 15; iter_num: 0; loss: 4.1211934089660645\n",
            "epoch: 15; iter_num: 0; loss: 3.8447048664093018\n",
            "epoch: 15; iter_num: 0; loss: 4.124168395996094\n",
            "epoch: 15; iter_num: 0; loss: 4.068563461303711\n",
            "epoch: 15; iter_num: 0; loss: 4.123155117034912\n"
          ]
        },
        {
          "name": "stderr",
          "output_type": "stream",
          "text": [
            "\r 80%|████████  | 16/20 [1:01:09<15:22, 230.70s/it]"
          ]
        },
        {
          "name": "stdout",
          "output_type": "stream",
          "text": [
            "epoch: 16; iter_num: 0; loss: 4.293248176574707\n"
          ]
        },
        {
          "name": "stderr",
          "output_type": "stream",
          "text": [
            "\r 80%|████████  | 16/20 [1:01:26<15:21, 230.41s/it]\n"
          ]
        },
        {
          "ename": "KeyboardInterrupt",
          "evalue": "ignored",
          "output_type": "error",
          "traceback": [
            "\u001b[0;31m---------------------------------------------------------------------------\u001b[0m",
            "\u001b[0;31mKeyboardInterrupt\u001b[0m                         Traceback (most recent call last)",
            "\u001b[0;32m<ipython-input-14-7561c6c0e0e3>\u001b[0m in \u001b[0;36m<cell line: 30>\u001b[0;34m()\u001b[0m\n\u001b[1;32m     37\u001b[0m             \u001b[0mbatch\u001b[0m \u001b[0;34m=\u001b[0m \u001b[0mnext\u001b[0m\u001b[0;34m(\u001b[0m\u001b[0mdata_iter\u001b[0m\u001b[0;34m)\u001b[0m\u001b[0;34m\u001b[0m\u001b[0;34m\u001b[0m\u001b[0m\n\u001b[1;32m     38\u001b[0m \u001b[0;34m\u001b[0m\u001b[0m\n\u001b[0;32m---> 39\u001b[0;31m         \u001b[0mbatch\u001b[0m \u001b[0;34m=\u001b[0m \u001b[0;34m[\u001b[0m\u001b[0mt\u001b[0m\u001b[0;34m.\u001b[0m\u001b[0mto\u001b[0m\u001b[0;34m(\u001b[0m\u001b[0mdevice\u001b[0m\u001b[0;34m)\u001b[0m \u001b[0;32mfor\u001b[0m \u001b[0mt\u001b[0m \u001b[0;32min\u001b[0m \u001b[0mbatch\u001b[0m\u001b[0;34m]\u001b[0m\u001b[0;34m\u001b[0m\u001b[0;34m\u001b[0m\u001b[0m\n\u001b[0m\u001b[1;32m     40\u001b[0m         \u001b[0mx\u001b[0m\u001b[0;34m,\u001b[0m \u001b[0my\u001b[0m \u001b[0;34m=\u001b[0m \u001b[0mbatch\u001b[0m\u001b[0;34m\u001b[0m\u001b[0;34m\u001b[0m\u001b[0m\n\u001b[1;32m     41\u001b[0m         \u001b[0;31m# print(f\"X: {x}\")\u001b[0m\u001b[0;34m\u001b[0m\u001b[0;34m\u001b[0m\u001b[0m\n",
            "\u001b[0;32m<ipython-input-14-7561c6c0e0e3>\u001b[0m in \u001b[0;36m<listcomp>\u001b[0;34m(.0)\u001b[0m\n\u001b[1;32m     37\u001b[0m             \u001b[0mbatch\u001b[0m \u001b[0;34m=\u001b[0m \u001b[0mnext\u001b[0m\u001b[0;34m(\u001b[0m\u001b[0mdata_iter\u001b[0m\u001b[0;34m)\u001b[0m\u001b[0;34m\u001b[0m\u001b[0;34m\u001b[0m\u001b[0m\n\u001b[1;32m     38\u001b[0m \u001b[0;34m\u001b[0m\u001b[0m\n\u001b[0;32m---> 39\u001b[0;31m         \u001b[0mbatch\u001b[0m \u001b[0;34m=\u001b[0m \u001b[0;34m[\u001b[0m\u001b[0mt\u001b[0m\u001b[0;34m.\u001b[0m\u001b[0mto\u001b[0m\u001b[0;34m(\u001b[0m\u001b[0mdevice\u001b[0m\u001b[0;34m)\u001b[0m \u001b[0;32mfor\u001b[0m \u001b[0mt\u001b[0m \u001b[0;32min\u001b[0m \u001b[0mbatch\u001b[0m\u001b[0;34m]\u001b[0m\u001b[0;34m\u001b[0m\u001b[0;34m\u001b[0m\u001b[0m\n\u001b[0m\u001b[1;32m     40\u001b[0m         \u001b[0mx\u001b[0m\u001b[0;34m,\u001b[0m \u001b[0my\u001b[0m \u001b[0;34m=\u001b[0m \u001b[0mbatch\u001b[0m\u001b[0;34m\u001b[0m\u001b[0;34m\u001b[0m\u001b[0m\n\u001b[1;32m     41\u001b[0m         \u001b[0;31m# print(f\"X: {x}\")\u001b[0m\u001b[0;34m\u001b[0m\u001b[0;34m\u001b[0m\u001b[0m\n",
            "\u001b[0;31mKeyboardInterrupt\u001b[0m: "
          ]
        }
      ],
      "source": [
        "import tqdm\n",
        "import time\n",
        "\n",
        "num_workers = 2\n",
        "grad_norm_clip = 1.0\n",
        "\n",
        "train_loader = DataLoader(\n",
        "                train_dataset,\n",
        "                sampler=torch.utils.data.RandomSampler(train_dataset,\n",
        "                                                        replacement=True,\n",
        "                                                        num_samples=int(1e10)),\n",
        "                shuffle=False,\n",
        "                pin_memory=True,\n",
        "                batch_size=config.batch_size,\n",
        "                num_workers=num_workers,\n",
        "                )\n",
        "\n",
        "model.train()\n",
        "epochs = 20\n",
        "max_iters = 500\n",
        "iter_num = 0\n",
        "iter_time = time.time()\n",
        "data_iter = iter(train_loader)\n",
        "\n",
        "best_loss = 4\n",
        "last_loss = best_loss\n",
        "\n",
        "losses = []\n",
        "\n",
        "for epoch in tqdm.tqdm(range(epochs)):\n",
        "    for curr_iter in range(max_iters):\n",
        "\n",
        "        try:\n",
        "            batch = next(data_iter)\n",
        "        except StopIteration:\n",
        "            data_iter = iter(train_loader)  # Start again if reached the end\n",
        "            batch = next(data_iter)\n",
        "\n",
        "        batch = [t.to(device) for t in batch]\n",
        "        x, y = batch\n",
        "\n",
        "        logits, loss = model(x, y)\n",
        "\n",
        "        model.zero_grad(set_to_none=True)\n",
        "        loss.backward()\n",
        "        torch.nn.utils.clip_grad_norm_(model.parameters(), grad_norm_clip)\n",
        "        optimizer.step()\n",
        "\n",
        "        if curr_iter % 100 == 0:\n",
        "            print(f\"epoch: {epoch}; iter_num: {iter_num}; loss: {loss}\")\n",
        "            if loss < best_loss:\n",
        "                best_loss = loss\n",
        "                torch.save(model.state_dict(), f\"{model_path}_{epoch}_{iter_num}_{loss}\")\n",
        "        last_loss = loss\n",
        "    losses.append(last_loss)"
      ]
    },
    {
      "cell_type": "code",
      "execution_count": 21,
      "metadata": {
        "colab": {
          "base_uri": "https://localhost:8080/",
          "height": 472
        },
        "id": "666q7FyVNn4P",
        "outputId": "e6bd6668-1df4-413e-ae28-6f57912b490a"
      },
      "outputs": [
        {
          "data": {
            "image/png": "[encoded data removed]",
            "text/plain": [
              "<Figure size 640x480 with 1 Axes>"
            ]
          },
          "metadata": {},
          "output_type": "display_data"
        }
      ],
      "source": [
        "plt.plot(epochs, losses)\n",
        "plt.title('GPT From Scratch Loss')\n",
        "plt.xlabel('Epoch')\n",
        "plt.ylabel('Loss')\n",
        "plt.show()"
      ]
    },
    {
      "cell_type": "code",
      "execution_count": null,
      "metadata": {
        "id": "rZPyYK3ch7jR"
      },
      "outputs": [],
      "source": [
        "model_path = \"/content/drive/MyDrive/IU/Semester_7/PMLDL_JokeGPT/GPTFromScratch/eos_model_shortjokes_only\"\n",
        "\n",
        "torch.save(model.state_dict(), model_path)"
      ]
    },
    {
      "cell_type": "markdown",
      "metadata": {
        "id": "noiszYisAHrx"
      },
      "source": [
        "## Model Testing\n",
        "\n",
        "The following code is used to load and test the model"
      ]
    },
    {
      "cell_type": "code",
      "execution_count": null,
      "metadata": {
        "colab": {
          "base_uri": "https://localhost:8080/"
        },
        "id": "9wKTWpz-_EWw",
        "outputId": "917a683a-ff3d-4616-f8a4-f6c017761463"
      },
      "outputs": [],
      "source": [
        "import tiktoken\n",
        "\n",
        "load_model_path = \"/content/drive/MyDrive/IU/Semester_7/PMLDL_JokeGPT/GPTFromScratch/eos_model_shortjokes_only\"\n",
        "enc = tiktoken.get_encoding(\"gpt2\")\n",
        "\n",
        "max_seq_len = 50\n",
        "\n",
        "config = Config(vocab_size, max_seq_len)\n",
        "model = GPT(config).to(device)\n",
        "model.load_state_dict(torch.load(load_model_path))\n",
        "model.eval()"
      ]
    },
    {
      "cell_type": "code",
      "execution_count": null,
      "metadata": {
        "id": "oEjM5nKWAJmu"
      },
      "outputs": [],
      "source": [
        "starting_string = \"My son\"\n",
        "\n",
        "start = torch.tensor([enc.encode(starting_string)], dtype=torch.long, device=device)\n",
        "\n",
        "output = model.generate(xs = start, max_new_tokens=30, do_sample=True)[0].tolist()\n",
        "\n",
        "try:\n",
        "    end_index = output.index(enc.eot_token)\n",
        "    output = enc.decode(output[:end_index])\n",
        "except:\n",
        "    output = \"Please try again!\"\n",
        "\n",
        "print(output)"
      ]
    }
  ],
  "metadata": {
    "accelerator": "GPU",
    "colab": {
      "gpuType": "T4",
      "provenance": []
    },
    "kernelspec": {
      "display_name": "Python 3",
      "name": "python3"
    },
    "language_info": {
      "codemirror_mode": {
        "name": "ipython",
        "version": 3
      },
      "file_extension": ".py",
      "mimetype": "text/x-python",
      "name": "python",
      "nbconvert_exporter": "python",
      "pygments_lexer": "ipython3",
      "version": "3.11.6"
    }
  },
  "nbformat": 4,
  "nbformat_minor": 0
}
