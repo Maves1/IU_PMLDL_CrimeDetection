{
  "cells": [
    {
      "cell_type": "code",
      "execution_count": 6,
      "metadata": {
        "colab": {
          "base_uri": "https://localhost:8080/"
        },
        "id": "R8zkd1knF38f",
        "outputId": "aadfcd73-8ac1-4a3c-c20f-6cf2996d1bce"
      },
      "outputs": [
        {
          "output_type": "stream",
          "name": "stdout",
          "text": [
            "Looking in indexes: https://pypi.org/simple, https://us-python.pkg.dev/colab-wheels/public/simple/\n",
            "Requirement already satisfied: tiktoken in /usr/local/lib/python3.10/dist-packages (0.3.3)\n",
            "Requirement already satisfied: requests>=2.26.0 in /usr/local/lib/python3.10/dist-packages (from tiktoken) (2.27.1)\n",
            "Requirement already satisfied: regex>=2022.1.18 in /usr/local/lib/python3.10/dist-packages (from tiktoken) (2022.10.31)\n",
            "Requirement already satisfied: idna<4,>=2.5 in /usr/local/lib/python3.10/dist-packages (from requests>=2.26.0->tiktoken) (3.4)\n",
            "Requirement already satisfied: certifi>=2017.4.17 in /usr/local/lib/python3.10/dist-packages (from requests>=2.26.0->tiktoken) (2022.12.7)\n",
            "Requirement already satisfied: charset-normalizer~=2.0.0 in /usr/local/lib/python3.10/dist-packages (from requests>=2.26.0->tiktoken) (2.0.12)\n",
            "Requirement already satisfied: urllib3<1.27,>=1.21.1 in /usr/local/lib/python3.10/dist-packages (from requests>=2.26.0->tiktoken) (1.26.15)\n",
            "Looking in indexes: https://pypi.org/simple, https://us-python.pkg.dev/colab-wheels/public/simple/\n",
            "Requirement already satisfied: torch in /usr/local/lib/python3.10/dist-packages (2.0.0+cu118)\n",
            "Requirement already satisfied: jinja2 in /usr/local/lib/python3.10/dist-packages (from torch) (3.1.2)\n",
            "Requirement already satisfied: networkx in /usr/local/lib/python3.10/dist-packages (from torch) (3.1)\n",
            "Requirement already satisfied: triton==2.0.0 in /usr/local/lib/python3.10/dist-packages (from torch) (2.0.0)\n",
            "Requirement already satisfied: filelock in /usr/local/lib/python3.10/dist-packages (from torch) (3.12.0)\n",
            "Requirement already satisfied: typing-extensions in /usr/local/lib/python3.10/dist-packages (from torch) (4.5.0)\n",
            "Requirement already satisfied: sympy in /usr/local/lib/python3.10/dist-packages (from torch) (1.11.1)\n",
            "Requirement already satisfied: lit in /usr/local/lib/python3.10/dist-packages (from triton==2.0.0->torch) (16.0.2)\n",
            "Requirement already satisfied: cmake in /usr/local/lib/python3.10/dist-packages (from triton==2.0.0->torch) (3.25.2)\n",
            "Requirement already satisfied: MarkupSafe>=2.0 in /usr/local/lib/python3.10/dist-packages (from jinja2->torch) (2.1.2)\n",
            "Requirement already satisfied: mpmath>=0.19 in /usr/local/lib/python3.10/dist-packages (from sympy->torch) (1.3.0)\n",
            "Looking in indexes: https://pypi.org/simple, https://us-python.pkg.dev/colab-wheels/public/simple/\n",
            "Requirement already satisfied: numpy in /usr/local/lib/python3.10/dist-packages (1.22.4)\n",
            "Looking in indexes: https://pypi.org/simple, https://us-python.pkg.dev/colab-wheels/public/simple/\n",
            "Requirement already satisfied: pandas in /usr/local/lib/python3.10/dist-packages (1.5.3)\n",
            "Requirement already satisfied: python-dateutil>=2.8.1 in /usr/local/lib/python3.10/dist-packages (from pandas) (2.8.2)\n",
            "Requirement already satisfied: pytz>=2020.1 in /usr/local/lib/python3.10/dist-packages (from pandas) (2022.7.1)\n",
            "Requirement already satisfied: numpy>=1.21.0 in /usr/local/lib/python3.10/dist-packages (from pandas) (1.22.4)\n",
            "Requirement already satisfied: six>=1.5 in /usr/local/lib/python3.10/dist-packages (from python-dateutil>=2.8.1->pandas) (1.16.0)\n"
          ]
        }
      ],
      "source": [
        "!pip install tiktoken\n",
        "!pip install torch\n",
        "!pip install numpy\n",
        "!pip install pandas"
      ]
    },
    {
      "cell_type": "code",
      "execution_count": 82,
      "metadata": {
        "id": "FazteF-ADdxa"
      },
      "outputs": [],
      "source": [
        "import torch\n",
        "import torch.nn as nn\n",
        "import math\n",
        "\n",
        "from torch.nn import functional as F\n",
        "from torch.utils.data import Dataset\n",
        "from torch.utils.data.dataloader import DataLoader\n",
        "\n",
        "device = \"cuda\"\n",
        "# device = \"mps\"\n",
        "\n",
        "# A helper config class that incorporates model's parameters\n",
        "class Config:\n",
        "    embed_dropout = 0.1\n",
        "    ff_dropout = 0.1\n",
        "    attn_dropout = 0.1\n",
        "\n",
        "    num_embed = 768\n",
        "    num_heads = 12\n",
        "    num_blocks = 12\n",
        "\n",
        "    batch_size = 32\n",
        "\n",
        "    def __init__(self, vocab_size, max_seq_len) -> None:\n",
        "        self.vocab_size = vocab_size\n",
        "        self.max_seq_len = max_seq_len"
      ]
    },
    {
      "cell_type": "code",
      "execution_count": 54,
      "metadata": {
        "id": "lWKYeUnfDEBV"
      },
      "outputs": [],
      "source": [
        "class SelfAttention(nn.Module):\n",
        "\n",
        "    def __init__(self, config: Config):\n",
        "        super().__init__()\n",
        "\n",
        "        if config.num_embed % config.num_heads != 0:\n",
        "            raise ValueError(\"num_embed % num_heads != 0\")\n",
        "        \n",
        "        self.num_embed = config.num_embed\n",
        "        self.num_heads = config.num_heads\n",
        "        \n",
        "        self.c_attn = nn.Linear(config.num_embed, 3 * config.num_embed)  # key, query, value\n",
        "        self.c_proj = nn.Linear(config.num_embed, config.num_embed)\n",
        "\n",
        "        # regularization\n",
        "        self.attn_dropout = nn.Dropout(config.attn_dropout)\n",
        "        self.resid_dropout = nn.Dropout(config.ff_dropout)\n",
        "\n",
        "        # Mask that makes sure that attention only affects left tokens (previous, not future ones)\n",
        "        self.register_buffer(\"bias\", torch.tril(torch.ones(config.max_seq_len, config.max_seq_len))\n",
        "                                     .view(1, 1, config.max_seq_len, config.max_seq_len))\n",
        "\n",
        "    def forward(self, x):\n",
        "        B, T, C = x.size()  # batch size, seq len, num_embed\n",
        "\n",
        "        # query, key, value for every head in batch\n",
        "        query, key, value = self.c_attn(x).split(self.num_embed, dim=2)\n",
        "\n",
        "        key = key.view(B, T, self.num_heads, C // self.num_heads).transpose(1, 2)\n",
        "        query = query.view(B, T, self.num_heads, C // self.num_heads).transpose(1, 2)\n",
        "        value = value.view(B, T, self.num_heads, C // self.num_heads).transpose(1, 2)\n",
        "\n",
        "        # Causal self attention\n",
        "        atn = (query @ key.transpose(-2, -1)) * (1.0 / math.sqrt(key.size(-1)))\n",
        "        atn = atn.masked_fill(self.bias[:, :, :T, :T] == 0, float('-inf'))\n",
        "        atn = F.softmax(atn, dim=-1)\n",
        "        atn = self.attn_dropout(atn)\n",
        "\n",
        "        y = atn @ value\n",
        "        y = y.transpose(1, 2).contiguous().view(B, T, C)\n",
        "        y = self.resid_dropout(self.c_proj(y))\n",
        "\n",
        "        return y\n",
        "\n",
        "class Block(nn.Module):\n",
        "    def __init__(self, config: Config):\n",
        "        super().__init__()\n",
        "\n",
        "        self.ln_1 = nn.LayerNorm(config.num_embed)\n",
        "\n",
        "        self.attention = SelfAttention(config)\n",
        "\n",
        "        self.ln_2 = nn.LayerNorm(config.num_embed)\n",
        "\n",
        "        # TODO: check\n",
        "        self.mlp = nn.ModuleDict(dict(\n",
        "            c_fc    = nn.Linear(config.num_embed, 4 * config.num_embed),\n",
        "            c_proj  = nn.Linear(4 * config.num_embed, config.num_embed),\n",
        "            act     = nn.GELU(),\n",
        "            dropout = nn.Dropout(config.ff_dropout),\n",
        "        ))\n",
        "\n",
        "        m = self.mlp\n",
        "        self.mlpf = lambda x: m.dropout(m.c_proj(m.act(m.c_fc(x))))\n",
        "\n",
        "    def forward(self, x):\n",
        "        x = x + self.attention(self.ln_1(x))\n",
        "        x = x + self.mlpf(self.ln_2(x))\n",
        "\n",
        "        return x\n",
        "\n",
        "class GPT(nn.Module):\n",
        "    def __init__(self, config: Config) -> None:\n",
        "        super().__init__()\n",
        "\n",
        "        self.max_seq_len = config.max_seq_len\n",
        "        self.transformer = nn.ModuleDict(dict(\n",
        "            wte = nn.Embedding(config.vocab_size, config.num_embed),\n",
        "            wpe = nn.Embedding(config.max_seq_len, config.num_embed),\n",
        "            dropout = nn.Dropout(config.embed_dropout),\n",
        "            h = nn.ModuleList([Block(config) for _ in range(config.num_blocks)]),\n",
        "            ln_f = nn.LayerNorm(config.num_embed)\n",
        "        ))\n",
        "\n",
        "        self.head = nn.Linear(config.num_embed, config.vocab_size)\n",
        "\n",
        "    def forward(self, x, targets=None):\n",
        "        # x.shape = (Batches, Seq length)\n",
        "\n",
        "        seq_len = x.size(1)\n",
        "\n",
        "        if seq_len > self.max_seq_len:\n",
        "            raise ValueError(\"Sequence length is > max allowed length\")\n",
        "        \n",
        "        token_emb = self.transformer.wte(x)  # Batch size, seq length, num_embed\n",
        "        # print(f\"token_emb: {token_emb}\")\n",
        "\n",
        "        positions = torch.arange(0, seq_len,\n",
        "                               dtype=torch.long,\n",
        "                               device=device).unsqueeze(0)  # (1, max_seq_len)\n",
        "\n",
        "        pos_emb = self.transformer.wpe(positions)  # 1, max_seq_len, num_embed\n",
        "\n",
        "        x = self.transformer.dropout(token_emb + pos_emb)\n",
        "        # print(f\"x dropout: {x}\")\n",
        "\n",
        "        for block in self.transformer.h:\n",
        "            x = block(x)\n",
        "        # print(f\"x blocks: {x}\")\n",
        "\n",
        "        x = self.transformer.ln_f(x)\n",
        "        # print(f\"x ln_f: {x}\")\n",
        "\n",
        "        logits = self.head(x)\n",
        "        # print(f\"logits.shape: {logits.shape}\")\n",
        "        # print(f\"targets.shape: {targets.shape}\")\n",
        "\n",
        "        loss = None\n",
        "        if targets is not None:\n",
        "            B, T, C = logits.shape\n",
        "            logits = logits.view(B * T, C)\n",
        "            targets = targets.view(B * T)\n",
        "\n",
        "            loss = F.cross_entropy(logits, targets)\n",
        "            # print(f\"LOGITS: {logits}\\nTargets: {targets}\")\n",
        "\n",
        "        return logits, loss\n",
        "    \n",
        "    def generate(self, xs, max_new_tokens, temperature=1.0, do_sample=False, top_k=None):\n",
        "        \n",
        "        for _ in range(max_new_tokens):\n",
        "            if xs.size(1) > self.max_seq_len:\n",
        "                x = xs[:, -self.max_seq_len:]\n",
        "            else:\n",
        "                x = xs\n",
        "            \n",
        "            logits, _ = self(x)\n",
        "\n",
        "            # Taking last logits\n",
        "            logits = logits[:, -1, :] / temperature  # Also scaling by temperature\n",
        "\n",
        "            if top_k is not None:\n",
        "                v, _ = torch.topk(logits, top_k)\n",
        "                logits[logits < v[:, [-1]]] = -float('Inf')\n",
        "\n",
        "            probs = F.softmax(logits, dim=-1)\n",
        "\n",
        "            # We can either sample from distribution or choose using top_k\n",
        "            if do_sample:\n",
        "                x_next = torch.multinomial(probs, num_samples=1)\n",
        "            else:\n",
        "                _, x_next = torch.topk(probs, k=1, dim=-1)\n",
        "            \n",
        "            xs = torch.cat((xs, x_next), dim=1)  # Adding a chosen token to the sequence\n",
        "        return xs"
      ]
    },
    {
      "cell_type": "code",
      "execution_count": 9,
      "metadata": {
        "colab": {
          "base_uri": "https://localhost:8080/"
        },
        "id": "WqqxhwFhWtFY",
        "outputId": "d33211b0-ca1c-452d-c156-8406500bcc86"
      },
      "outputs": [
        {
          "output_type": "stream",
          "name": "stdout",
          "text": [
            "[15496, 11, 340, 338, 502, 0]\n"
          ]
        }
      ],
      "source": [
        "# tiktoken\n",
        "\n",
        "import tiktoken\n",
        "\n",
        "# enc = tiktoken.encoding_for_model(\"gpt-4\")\n",
        "enc = tiktoken.get_encoding(\"gpt2\")\n",
        "\n",
        "test_text = \"Hello, it's me!\"\n",
        "test_enc = enc.encode(test_text)\n",
        "\n",
        "print(test_enc)"
      ]
    },
    {
      "cell_type": "code",
      "execution_count": 10,
      "metadata": {
        "colab": {
          "base_uri": "https://localhost:8080/"
        },
        "id": "TdgJhxSDDEBW",
        "outputId": "0fb1818f-5fb7-4254-8c62-9691e8cb5b7d"
      },
      "outputs": [
        {
          "output_type": "stream",
          "name": "stdout",
          "text": [
            "vocab size: 50257\n"
          ]
        }
      ],
      "source": [
        "vocab_size = enc.n_vocab\n",
        "\n",
        "# print(encoded_data)\n",
        "# print([enc.decode([token]) for token in encoded_data])\n",
        "print(f\"vocab size: {vocab_size}\")"
      ]
    },
    {
      "cell_type": "markdown",
      "metadata": {
        "id": "-7EYWjdUf-Js"
      },
      "source": [
        "We will be processing several batches in parallel to accelerate training process"
      ]
    },
    {
      "cell_type": "code",
      "execution_count": 11,
      "metadata": {
        "id": "oR7ZM007DEBY"
      },
      "outputs": [],
      "source": [
        "max_seq_len = 100\n",
        "\n",
        "config = Config(vocab_size, max_seq_len)"
      ]
    },
    {
      "cell_type": "markdown",
      "metadata": {
        "id": "-eF7FzerDEBY"
      },
      "source": [
        "We can see that the model gives us random output. Let's train it!"
      ]
    },
    {
      "cell_type": "code",
      "execution_count": 35,
      "metadata": {
        "id": "sUwHH1qqYW2E"
      },
      "outputs": [],
      "source": [
        "import pandas as pd\n",
        "import random\n",
        "\n",
        "class JokeDataset(Dataset):\n",
        "    def __init__(self, file, tokenizer, max_seq_len):\n",
        "        \n",
        "        df = pd.read_csv(file, index_col=0)\n",
        "\n",
        "        self.jokes = []\n",
        "        for row in df.iterrows():\n",
        "            encoded = tokenizer.encode(row[1][0])\n",
        "                                       \n",
        "            self.jokes.extend(encoded)\n",
        "\n",
        "    def __len__(self):\n",
        "        return len(self.jokes)\n",
        "\n",
        "    def __getitem__(self, idx):\n",
        "        if len(self.jokes) - idx < max_seq_len + 1:\n",
        "            idx = len(self.jokes) - max_seq_len - 1\n",
        "\n",
        "        encoded_sample = self.jokes[idx:idx + max_seq_len + 1]\n",
        "\n",
        "        x = encoded_sample[:max_seq_len]\n",
        "        y = encoded_sample[1:]\n",
        "\n",
        "        return torch.tensor(x), torch.tensor(y)"
      ]
    },
    {
      "cell_type": "code",
      "source": [
        "enc.encode(\"<|endoftext|>\", allowed_special={\"<|endoftext|>\"})"
      ],
      "metadata": {
        "id": "j1rg1ex9cWHz"
      },
      "execution_count": null,
      "outputs": []
    },
    {
      "cell_type": "code",
      "execution_count": 36,
      "metadata": {
        "id": "-N0F4ibiYW2E"
      },
      "outputs": [],
      "source": [
        "train_dataset = JokeDataset(\"shortjokes.csv\", enc, config.max_seq_len)"
      ]
    },
    {
      "cell_type": "code",
      "execution_count": 24,
      "metadata": {
        "colab": {
          "base_uri": "https://localhost:8080/"
        },
        "id": "5gzirt3FYW2E",
        "outputId": "be074b42-5496-4457-de84-65bf5e51e6dc"
      },
      "outputs": [
        {
          "output_type": "stream",
          "name": "stdout",
          "text": [
            "ating a documentary about narrators] \"I can't hear what they're saying cuz I'm talking\"Telling my daughter garlic is good for you. Good immune system and keeps pests away.Ticks, mosquitos, vampires... men.I've been going through a really rough period at work this week It's my own fault for swapping my tampax for sand paper.If I could have dinner with anyone, dead or alive... ...I would choose alive. -B.J.\n",
            " a documentary about narrators] \"I can't hear what they're saying cuz I'm talking\"Telling my daughter garlic is good for you. Good immune system and keeps pests away.Ticks, mosquitos, vampires... men.I've been going through a really rough period at work this week It's my own fault for swapping my tampax for sand paper.If I could have dinner with anyone, dead or alive... ...I would choose alive. -B.J. Nov\n"
          ]
        }
      ],
      "source": [
        "inp, tar = train_dataset.__getitem__(3)\n",
        "\n",
        "print(enc.decode(inp.tolist()))\n",
        "print(enc.decode(tar.tolist()))"
      ]
    },
    {
      "cell_type": "code",
      "source": [
        "torch.autograd.set_detect_anomaly(False)"
      ],
      "metadata": {
        "id": "6J28FtlvoLbE"
      },
      "execution_count": null,
      "outputs": []
    },
    {
      "cell_type": "code",
      "source": [
        "model = GPT(config).to(device)\n",
        "optimizer = torch.optim.AdamW(model.parameters(), lr=1e-4)\n",
        "\n",
        "model_path = \"/content/drive/MyDrive/IU/Semester_6/IU_NLP_Project/model\""
      ],
      "metadata": {
        "id": "dN3rDtrvipkq"
      },
      "execution_count": 64,
      "outputs": []
    },
    {
      "cell_type": "code",
      "execution_count": 114,
      "metadata": {
        "colab": {
          "base_uri": "https://localhost:8080/",
          "height": 496
        },
        "id": "-4oXAc9mDEBa",
        "outputId": "432cd1c5-2771-468a-df80-e67503b828d0"
      },
      "outputs": [
        {
          "output_type": "stream",
          "name": "stderr",
          "text": [
            "\r  0%|          | 0/5 [00:00<?, ?it/s]"
          ]
        },
        {
          "output_type": "stream",
          "name": "stdout",
          "text": [
            "epoch: 0; iter_num: 0; loss: 4.499292373657227\n",
            "epoch: 0; iter_num: 0; loss: 4.6021809577941895\n",
            "epoch: 0; iter_num: 0; loss: 4.5851287841796875\n",
            "epoch: 0; iter_num: 0; loss: 4.401492118835449\n"
          ]
        },
        {
          "output_type": "stream",
          "name": "stderr",
          "text": [
            "\r  0%|          | 0/5 [04:46<?, ?it/s]\n"
          ]
        },
        {
          "output_type": "error",
          "ename": "KeyboardInterrupt",
          "evalue": "ignored",
          "traceback": [
            "\u001b[0;31m---------------------------------------------------------------------------\u001b[0m",
            "\u001b[0;31mKeyboardInterrupt\u001b[0m                         Traceback (most recent call last)",
            "\u001b[0;32m<ipython-input-114-f4241516bf2d>\u001b[0m in \u001b[0;36m<cell line: 25>\u001b[0;34m()\u001b[0m\n\u001b[1;32m     40\u001b[0m \u001b[0;34m\u001b[0m\u001b[0m\n\u001b[1;32m     41\u001b[0m         \u001b[0mmodel\u001b[0m\u001b[0;34m.\u001b[0m\u001b[0mzero_grad\u001b[0m\u001b[0;34m(\u001b[0m\u001b[0mset_to_none\u001b[0m\u001b[0;34m=\u001b[0m\u001b[0;32mTrue\u001b[0m\u001b[0;34m)\u001b[0m\u001b[0;34m\u001b[0m\u001b[0;34m\u001b[0m\u001b[0m\n\u001b[0;32m---> 42\u001b[0;31m         \u001b[0mloss\u001b[0m\u001b[0;34m.\u001b[0m\u001b[0mbackward\u001b[0m\u001b[0;34m(\u001b[0m\u001b[0;34m)\u001b[0m\u001b[0;34m\u001b[0m\u001b[0;34m\u001b[0m\u001b[0m\n\u001b[0m\u001b[1;32m     43\u001b[0m         \u001b[0mtorch\u001b[0m\u001b[0;34m.\u001b[0m\u001b[0mnn\u001b[0m\u001b[0;34m.\u001b[0m\u001b[0mutils\u001b[0m\u001b[0;34m.\u001b[0m\u001b[0mclip_grad_norm_\u001b[0m\u001b[0;34m(\u001b[0m\u001b[0mmodel\u001b[0m\u001b[0;34m.\u001b[0m\u001b[0mparameters\u001b[0m\u001b[0;34m(\u001b[0m\u001b[0;34m)\u001b[0m\u001b[0;34m,\u001b[0m \u001b[0mgrad_norm_clip\u001b[0m\u001b[0;34m)\u001b[0m\u001b[0;34m\u001b[0m\u001b[0;34m\u001b[0m\u001b[0m\n\u001b[1;32m     44\u001b[0m         \u001b[0moptimizer\u001b[0m\u001b[0;34m.\u001b[0m\u001b[0mstep\u001b[0m\u001b[0;34m(\u001b[0m\u001b[0;34m)\u001b[0m\u001b[0;34m\u001b[0m\u001b[0;34m\u001b[0m\u001b[0m\n",
            "\u001b[0;32m/usr/local/lib/python3.10/dist-packages/torch/_tensor.py\u001b[0m in \u001b[0;36mbackward\u001b[0;34m(self, gradient, retain_graph, create_graph, inputs)\u001b[0m\n\u001b[1;32m    485\u001b[0m                 \u001b[0minputs\u001b[0m\u001b[0;34m=\u001b[0m\u001b[0minputs\u001b[0m\u001b[0;34m,\u001b[0m\u001b[0;34m\u001b[0m\u001b[0;34m\u001b[0m\u001b[0m\n\u001b[1;32m    486\u001b[0m             )\n\u001b[0;32m--> 487\u001b[0;31m         torch.autograd.backward(\n\u001b[0m\u001b[1;32m    488\u001b[0m             \u001b[0mself\u001b[0m\u001b[0;34m,\u001b[0m \u001b[0mgradient\u001b[0m\u001b[0;34m,\u001b[0m \u001b[0mretain_graph\u001b[0m\u001b[0;34m,\u001b[0m \u001b[0mcreate_graph\u001b[0m\u001b[0;34m,\u001b[0m \u001b[0minputs\u001b[0m\u001b[0;34m=\u001b[0m\u001b[0minputs\u001b[0m\u001b[0;34m\u001b[0m\u001b[0;34m\u001b[0m\u001b[0m\n\u001b[1;32m    489\u001b[0m         )\n",
            "\u001b[0;32m/usr/local/lib/python3.10/dist-packages/torch/autograd/__init__.py\u001b[0m in \u001b[0;36mbackward\u001b[0;34m(tensors, grad_tensors, retain_graph, create_graph, grad_variables, inputs)\u001b[0m\n\u001b[1;32m    198\u001b[0m     \u001b[0;31m# some Python versions print out the first line of a multi-line function\u001b[0m\u001b[0;34m\u001b[0m\u001b[0;34m\u001b[0m\u001b[0m\n\u001b[1;32m    199\u001b[0m     \u001b[0;31m# calls in the traceback and some print out the last line\u001b[0m\u001b[0;34m\u001b[0m\u001b[0;34m\u001b[0m\u001b[0m\n\u001b[0;32m--> 200\u001b[0;31m     Variable._execution_engine.run_backward(  # Calls into the C++ engine to run the backward pass\n\u001b[0m\u001b[1;32m    201\u001b[0m         \u001b[0mtensors\u001b[0m\u001b[0;34m,\u001b[0m \u001b[0mgrad_tensors_\u001b[0m\u001b[0;34m,\u001b[0m \u001b[0mretain_graph\u001b[0m\u001b[0;34m,\u001b[0m \u001b[0mcreate_graph\u001b[0m\u001b[0;34m,\u001b[0m \u001b[0minputs\u001b[0m\u001b[0;34m,\u001b[0m\u001b[0;34m\u001b[0m\u001b[0;34m\u001b[0m\u001b[0m\n\u001b[1;32m    202\u001b[0m         allow_unreachable=True, accumulate_grad=True)  # Calls into the C++ engine to run the backward pass\n",
            "\u001b[0;31mKeyboardInterrupt\u001b[0m: "
          ]
        }
      ],
      "source": [
        "import tqdm\n",
        "import time\n",
        "\n",
        "num_workers = 2\n",
        "grad_norm_clip = 1.0\n",
        "\n",
        "train_loader = DataLoader(\n",
        "                            train_dataset,\n",
        "                            sampler=torch.utils.data.RandomSampler(train_dataset, replacement=True, num_samples=int(1e10)),\n",
        "                            shuffle=False,\n",
        "                            pin_memory=True,\n",
        "                            batch_size=config.batch_size,\n",
        "                            num_workers=num_workers,\n",
        "                        )\n",
        "\n",
        "model.train()\n",
        "epochs = 5\n",
        "max_iters = 500\n",
        "iter_num = 0\n",
        "iter_time = time.time()\n",
        "data_iter = iter(train_loader)\n",
        "\n",
        "best_loss = 4.1\n",
        "\n",
        "for epoch in tqdm.tqdm(range(epochs)):\n",
        "    for curr_iter in range(max_iters):\n",
        "\n",
        "        try:\n",
        "            batch = next(data_iter)\n",
        "        except StopIteration:\n",
        "            data_iter = iter(train_loader)  # Start again if reached the end\n",
        "            batch = next(data_iter)\n",
        "\n",
        "        batch = [t.to(device) for t in batch]\n",
        "        x, y = batch\n",
        "        # print(f\"X: {x}\")\n",
        "\n",
        "        logits, loss = model(x, y)\n",
        "        # print(loss)\n",
        "\n",
        "        model.zero_grad(set_to_none=True)\n",
        "        loss.backward()\n",
        "        torch.nn.utils.clip_grad_norm_(model.parameters(), grad_norm_clip)\n",
        "        optimizer.step()\n",
        "        \n",
        "        if curr_iter % 100 == 0:\n",
        "            print(f\"epoch: {epoch}; iter_num: {iter_num}; loss: {loss}\")\n",
        "            if loss < best_loss:\n",
        "                best_loss = loss\n",
        "                torch.save(model.state_dict(), f\"{model_path}_{epoch}_{iter_num}_{loss}\")"
      ]
    },
    {
      "cell_type": "code",
      "source": [
        "model.eval()\n",
        "print(enc.decode(model.generate(xs = torch.zeros((1, 1), dtype=torch.long, device=device), max_new_tokens=20)[0].tolist()))"
      ],
      "metadata": {
        "colab": {
          "base_uri": "https://localhost:8080/"
        },
        "id": "czEeGd0qhMBC",
        "outputId": "9084c123-dce8-432a-e1b1-4bad991134a5"
      },
      "execution_count": 71,
      "outputs": [
        {
          "output_type": "stream",
          "name": "stdout",
          "text": [
            "!What do you call a black guy who is a dog? A pilot, you racist.What do\n"
          ]
        }
      ]
    },
    {
      "cell_type": "code",
      "source": [
        "from google.colab import drive\n",
        "drive.mount('/content/drive')"
      ],
      "metadata": {
        "colab": {
          "base_uri": "https://localhost:8080/"
        },
        "id": "sa5JfUkOh3M1",
        "outputId": "64693d7b-cf1f-4a97-805f-96b4402fd079"
      },
      "execution_count": 57,
      "outputs": [
        {
          "output_type": "stream",
          "name": "stdout",
          "text": [
            "Mounted at /content/drive\n"
          ]
        }
      ]
    },
    {
      "cell_type": "code",
      "source": [
        "model_path = \"/content/drive/MyDrive/IU/Semester_6/IU_NLP_Project/model\"\n",
        "\n",
        "torch.save(model.state_dict(), model_path)"
      ],
      "metadata": {
        "id": "rZPyYK3ch7jR"
      },
      "execution_count": 68,
      "outputs": []
    },
    {
      "cell_type": "markdown",
      "source": [
        "Use this to test the model"
      ],
      "metadata": {
        "id": "noiszYisAHrx"
      }
    },
    {
      "cell_type": "code",
      "source": [
        "import tiktoken\n",
        "\n",
        "load_model_path = \"/content/drive/MyDrive/IU/Semester_6/IU_NLP_Project/model_loss_4.4\"\n",
        "enc = tiktoken.get_encoding(\"gpt2\")\n",
        "\n",
        "max_seq_len = 100\n",
        "\n",
        "config = Config(vocab_size, max_seq_len)\n",
        "model = GPT(config).to(device)\n",
        "model.load_state_dict(torch.load(load_model_path))\n",
        "model.eval()"
      ],
      "metadata": {
        "colab": {
          "base_uri": "https://localhost:8080/"
        },
        "id": "9wKTWpz-_EWw",
        "outputId": "917a683a-ff3d-4616-f8a4-f6c017761463"
      },
      "execution_count": 83,
      "outputs": [
        {
          "output_type": "execute_result",
          "data": {
            "text/plain": [
              "GPT(\n",
              "  (transformer): ModuleDict(\n",
              "    (wte): Embedding(50257, 768)\n",
              "    (wpe): Embedding(100, 768)\n",
              "    (dropout): Dropout(p=0.1, inplace=False)\n",
              "    (h): ModuleList(\n",
              "      (0-11): 12 x Block(\n",
              "        (ln_1): LayerNorm((768,), eps=1e-05, elementwise_affine=True)\n",
              "        (attention): CausalSelfAttention(\n",
              "          (c_attn): Linear(in_features=768, out_features=2304, bias=True)\n",
              "          (c_proj): Linear(in_features=768, out_features=768, bias=True)\n",
              "          (attn_dropout): Dropout(p=0.1, inplace=False)\n",
              "          (resid_dropout): Dropout(p=0.1, inplace=False)\n",
              "        )\n",
              "        (ln_2): LayerNorm((768,), eps=1e-05, elementwise_affine=True)\n",
              "        (mlp): ModuleDict(\n",
              "          (c_fc): Linear(in_features=768, out_features=3072, bias=True)\n",
              "          (c_proj): Linear(in_features=3072, out_features=768, bias=True)\n",
              "          (act): GELU(approximate='none')\n",
              "          (dropout): Dropout(p=0.1, inplace=False)\n",
              "        )\n",
              "      )\n",
              "    )\n",
              "    (ln_f): LayerNorm((768,), eps=1e-05, elementwise_affine=True)\n",
              "  )\n",
              "  (head): Linear(in_features=768, out_features=50257, bias=True)\n",
              ")"
            ]
          },
          "metadata": {},
          "execution_count": 83
        }
      ]
    },
    {
      "cell_type": "code",
      "source": [
        "starting_string = \"A man walks into a bar\"\n",
        "\n",
        "start = torch.tensor([enc.encode(starting_string)], dtype=torch.long, device=device)\n",
        "print(start)\n",
        "\n",
        "print(enc.decode(model.generate(xs = start, max_new_tokens=30, do_sample=True)[0].tolist()))"
      ],
      "metadata": {
        "colab": {
          "base_uri": "https://localhost:8080/"
        },
        "id": "oEjM5nKWAJmu",
        "outputId": "c97de6c2-222f-468d-e63f-f51682e379fc"
      },
      "execution_count": 118,
      "outputs": [
        {
          "output_type": "stream",
          "name": "stdout",
          "text": [
            "tensor([[0]], device='cuda:0')\n",
            "!A humanjerk walk into a bar by Now it's the bartender looks at it and the other.What do you call a burger that loves clown\n"
          ]
        }
      ]
    },
    {
      "cell_type": "code",
      "source": [
        "torch.cuda.empty_cache()"
      ],
      "metadata": {
        "id": "qpnSItiTcooh"
      },
      "execution_count": 45,
      "outputs": []
    }
  ],
  "metadata": {
    "accelerator": "GPU",
    "colab": {
      "provenance": []
    },
    "gpuClass": "standard",
    "kernelspec": {
      "display_name": "Python 3",
      "name": "python3"
    },
    "language_info": {
      "codemirror_mode": {
        "name": "ipython",
        "version": 3
      },
      "file_extension": ".py",
      "mimetype": "text/x-python",
      "name": "python",
      "nbconvert_exporter": "python",
      "pygments_lexer": "ipython3",
      "version": "3.11.3"
    }
  },
  "nbformat": 4,
  "nbformat_minor": 0
}